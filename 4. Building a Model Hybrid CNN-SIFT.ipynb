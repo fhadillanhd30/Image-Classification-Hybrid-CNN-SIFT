{
  "cells": [
    {
      "cell_type": "code",
      "execution_count": null,
      "metadata": {
        "id": "huTZzkz9i3lR"
      },
      "outputs": [],
      "source": [
        "# Model pertama untuk input RGB\n",
        "input_rgb = Input(shape=(256, 256, 3))  # Input dengan 3 channel (RGB)\n",
        "x_rgb = Conv2D(32, (3, 3),strides=(1,1), activation='relu')(input_rgb)\n",
        "x_rgb = MaxPool2D(pool_size=(2, 2))(x_rgb)\n",
        "x_rgb = Conv2D(64, (3, 3),strides=(1,1), activation='relu')(x_rgb)\n",
        "x_rgb = MaxPool2D(pool_size=(2, 2))(x_rgb)\n",
        "x_rgb = Flatten()(x_rgb)"
      ]
    },
    {
      "cell_type": "code",
      "execution_count": null,
      "metadata": {
        "id": "ahCkbSy8jq3k"
      },
      "outputs": [],
      "source": [
        "inp_sift = Input(shape=(128,))\n",
        "x_sift = Flatten()(inp_sift)\n",
        "x_sift = Dense(128, activation='linear')(x_sift)\n",
        "x_sift = Model(inputs=inp_sift, outputs=x_sift)"
      ]
    },
    {
      "cell_type": "code",
      "execution_count": null,
      "metadata": {
        "id": "4lxOu8LJjq0e"
      },
      "outputs": [],
      "source": [
        "x = concatenate([x_rgb, x_sift.output])"
      ]
    },
    {
      "cell_type": "code",
      "execution_count": null,
      "metadata": {
        "id": "xW3QdlTajqxt"
      },
      "outputs": [],
      "source": [
        "x = Dense(100, activation='relu')(x)\n",
        "output = Dense(10, activation='softmax')(x)"
      ]
    },
    {
      "cell_type": "code",
      "execution_count": null,
      "metadata": {
        "id": "D5FT59u1jqvD"
      },
      "outputs": [],
      "source": [
        "merged_model = Model(inputs=[input_rgb, x_sift.input], outputs=output)"
      ]
    },
    {
      "cell_type": "code",
      "execution_count": null,
      "metadata": {
        "id": "u_ty0Lkxjqr6",
        "colab": {
          "base_uri": "https://localhost:8080/"
        },
        "outputId": "9d172487-5411-4dbb-e5f9-ef170052a906"
      },
      "outputs": [
        {
          "output_type": "stream",
          "name": "stdout",
          "text": [
            "Model: \"model_1\"\n",
            "__________________________________________________________________________________________________\n",
            " Layer (type)                Output Shape                 Param #   Connected to                  \n",
            "==================================================================================================\n",
            " input_1 (InputLayer)        [(None, 256, 256, 3)]        0         []                            \n",
            "                                                                                                  \n",
            " conv2d (Conv2D)             (None, 254, 254, 32)         896       ['input_1[0][0]']             \n",
            "                                                                                                  \n",
            " max_pooling2d (MaxPooling2  (None, 127, 127, 32)         0         ['conv2d[0][0]']              \n",
            " D)                                                                                               \n",
            "                                                                                                  \n",
            " conv2d_1 (Conv2D)           (None, 125, 125, 64)         18496     ['max_pooling2d[0][0]']       \n",
            "                                                                                                  \n",
            " input_2 (InputLayer)        [(None, 128)]                0         []                            \n",
            "                                                                                                  \n",
            " max_pooling2d_1 (MaxPoolin  (None, 62, 62, 64)           0         ['conv2d_1[0][0]']            \n",
            " g2D)                                                                                             \n",
            "                                                                                                  \n",
            " flatten_1 (Flatten)         (None, 128)                  0         ['input_2[0][0]']             \n",
            "                                                                                                  \n",
            " flatten (Flatten)           (None, 246016)               0         ['max_pooling2d_1[0][0]']     \n",
            "                                                                                                  \n",
            " dense (Dense)               (None, 128)                  16512     ['flatten_1[0][0]']           \n",
            "                                                                                                  \n",
            " concatenate (Concatenate)   (None, 246144)               0         ['flatten[0][0]',             \n",
            "                                                                     'dense[0][0]']               \n",
            "                                                                                                  \n",
            " dense_1 (Dense)             (None, 100)                  2461450   ['concatenate[0][0]']         \n",
            "                                                          0                                       \n",
            "                                                                                                  \n",
            " dense_2 (Dense)             (None, 10)                   1010      ['dense_1[0][0]']             \n",
            "                                                                                                  \n",
            "==================================================================================================\n",
            "Total params: 24651414 (94.04 MB)\n",
            "Trainable params: 24651414 (94.04 MB)\n",
            "Non-trainable params: 0 (0.00 Byte)\n",
            "__________________________________________________________________________________________________\n"
          ]
        }
      ],
      "source": [
        "merged_model.summary()"
      ]
    },
    {
      "cell_type": "code",
      "execution_count": null,
      "metadata": {
        "id": "FPol91sjKYhx"
      },
      "outputs": [],
      "source": []
    }
  ],
  "metadata": {
    "accelerator": "GPU",
    "colab": {
      "provenance": []
    },
    "gpuClass": "standard",
    "kernelspec": {
      "display_name": "Python 3",
      "name": "python3"
    },
    "language_info": {
      "name": "python"
    }
  },
  "nbformat": 4,
  "nbformat_minor": 0
}